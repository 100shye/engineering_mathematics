{
 "cells": [
  {
   "cell_type": "markdown",
   "id": "tough-liverpool",
   "metadata": {},
   "source": [
    "# Equation fitting <br>\n",
    "scipy.optimize  package provides functions for minimizing (or maximizing) objective functions <br>\n",
    "In this page, i will use three function; 1) exponential 2) polynomial 3) sinusoidal <br>\n"
   ]
  },
  {
   "cell_type": "markdown",
   "id": "fossil-setting",
   "metadata": {},
   "source": [
    " "
   ]
  },
  {
   "cell_type": "markdown",
   "id": "executed-trinity",
   "metadata": {},
   "source": [
    "<h4> 1. exponential curve <br>  </h4>\n",
    "The exponential function is a mathematical function denoted by f(x)=\\exp or e^{x} (Wikipedia). <br> "
   ]
  },
  {
   "cell_type": "markdown",
   "id": "initial-panic",
   "metadata": {},
   "source": [
    "1) make random data"
   ]
  },
  {
   "cell_type": "code",
   "execution_count": 26,
   "id": "integral-windows",
   "metadata": {},
   "outputs": [],
   "source": [
    "import numpy as np\n",
    "import pandas as pd\n",
    "x = np.arange(1, 101)\n",
    "y = np.log(x)#**4\n",
    "noise = np.random.normal(1, 100,100)\n",
    "y2 = y#+noise"
   ]
  },
  {
   "cell_type": "code",
   "execution_count": 3,
   "id": "agreed-packet",
   "metadata": {},
   "outputs": [],
   "source": [
    "# y2 = noise"
   ]
  },
  {
   "cell_type": "markdown",
   "id": "distant-maine",
   "metadata": {},
   "source": [
    "2) build function"
   ]
  },
  {
   "cell_type": "code",
   "execution_count": 20,
   "id": "protected-graham",
   "metadata": {},
   "outputs": [],
   "source": [
    "import matplotlib.pyplot as plt\n",
    "from scipy.optimize import curve_fit\n",
    "import numpy as np\n",
    "\n",
    "def exponential_func(x, a, b, c, d):\n",
    "    return a*np.exp(-c*(x-b))+d"
   ]
  },
  {
   "cell_type": "markdown",
   "id": "integrated-evans",
   "metadata": {},
   "source": [
    "3) set initial parameters, put data to function"
   ]
  },
  {
   "cell_type": "code",
   "execution_count": 21,
   "id": "unlimited-finnish",
   "metadata": {},
   "outputs": [],
   "source": [
    "init_value = [0.0, 0.0, 0.0, 0.0]  \n",
    "popt, pcov = curve_fit(exponential_func, x, y2, init_value)\n",
    "pred = exponential_func(x, *popt)"
   ]
  },
  {
   "cell_type": "markdown",
   "id": "thirty-transformation",
   "metadata": {},
   "source": [
    "4) visualization"
   ]
  },
  {
   "cell_type": "code",
   "execution_count": 22,
   "id": "commercial-drunk",
   "metadata": {},
   "outputs": [
    {
     "data": {
      "text/plain": [
       "<matplotlib.legend.Legend at 0x284d8cae460>"
      ]
     },
     "execution_count": 22,
     "metadata": {},
     "output_type": "execute_result"
    },
    {
     "data": {
      "image/png": "[encoded data removed]",
      "text/plain": [
       "<Figure size 432x288 with 1 Axes>"
      ]
     },
     "metadata": {
      "needs_background": "light"
     },
     "output_type": "display_data"
    }
   ],
   "source": [
    "plt.plot(x, y2, label = 'origin')\n",
    "plt.plot(x, pred, label = 'pred')\n",
    "plt.legend()"
   ]
  },
  {
   "cell_type": "markdown",
   "id": "upset-germany",
   "metadata": {},
   "source": [
    "5) equation coefficient summary"
   ]
  },
  {
   "cell_type": "code",
   "execution_count": 27,
   "id": "orange-syndication",
   "metadata": {},
   "outputs": [
    {
     "data": {
      "text/html": [
       "<div>\n",
       "<style scoped>\n",
       "    .dataframe tbody tr th:only-of-type {\n",
       "        vertical-align: middle;\n",
       "    }\n",
       "\n",
       "    .dataframe tbody tr th {\n",
       "        vertical-align: top;\n",
       "    }\n",
       "\n",
       "    .dataframe thead th {\n",
       "        text-align: right;\n",
       "    }\n",
       "</style>\n",
       "<table border=\"1\" class=\"dataframe\">\n",
       "  <thead>\n",
       "    <tr style=\"text-align: right;\">\n",
       "      <th></th>\n",
       "      <th>meaning</th>\n",
       "      <th>value</th>\n",
       "    </tr>\n",
       "  </thead>\n",
       "  <tbody>\n",
       "    <tr>\n",
       "      <th>0</th>\n",
       "      <td>equation</td>\n",
       "      <td>a*np.exp(-c*(x-b))+d</td>\n",
       "    </tr>\n",
       "    <tr>\n",
       "      <th>1</th>\n",
       "      <td>a</td>\n",
       "      <td>-3.098031</td>\n",
       "    </tr>\n",
       "    <tr>\n",
       "      <th>2</th>\n",
       "      <td>b</td>\n",
       "      <td>4.070311</td>\n",
       "    </tr>\n",
       "    <tr>\n",
       "      <th>3</th>\n",
       "      <td>c</td>\n",
       "      <td>0.042559</td>\n",
       "    </tr>\n",
       "    <tr>\n",
       "      <th>4</th>\n",
       "      <td>d</td>\n",
       "      <td>4.472706</td>\n",
       "    </tr>\n",
       "  </tbody>\n",
       "</table>\n",
       "</div>"
      ],
      "text/plain": [
       "    meaning                 value\n",
       "0  equation  a*np.exp(-c*(x-b))+d\n",
       "1         a             -3.098031\n",
       "2         b              4.070311\n",
       "3         c              0.042559\n",
       "4         d              4.472706"
      ]
     },
     "execution_count": 27,
     "metadata": {},
     "output_type": "execute_result"
    }
   ],
   "source": [
    "exponential_result = []\n",
    "equation = 'a*np.exp(-c*(x-b))+d'\n",
    "coefficient = popt\n",
    "\n",
    "exponential_result.append(['equation', equation])\n",
    "exponential_result.append(['a', popt[0]])\n",
    "exponential_result.append(['b', popt[1]])\n",
    "exponential_result.append(['c', popt[2]])\n",
    "exponential_result.append(['d', popt[3]])\n",
    "df_exponential_result = pd.DataFrame(exponential_result)\n",
    "df_exponential_result.columns = ['meaning', 'value']\n",
    "df_exponential_result"
   ]
  },
  {
   "cell_type": "markdown",
   "id": "sonic-theme",
   "metadata": {},
   "source": [
    "<br>"
   ]
  },
  {
   "cell_type": "markdown",
   "id": "hungry-riverside",
   "metadata": {},
   "source": [
    "<br>"
   ]
  },
  {
   "cell_type": "markdown",
   "id": "improved-canada",
   "metadata": {},
   "source": [
    "<h4> 2.  polynomial curve <br>  </h4> \n",
    "In mathematics, a polynomial is an expression consisting of indeterminates (also called variables) and coefficients, that involves only the operations of addition, subtraction, multiplication, and non-negative integer exponentiation of variables. An example of a polynomial of a single indeterminate x is x2 − 4x + 7. An example in three variables is x3 + 2xyz2 − yz + 1. <br> "
   ]
  },
  {
   "cell_type": "markdown",
   "id": "quiet-dispatch",
   "metadata": {},
   "source": [
    "1) degree 1  polynoimial curve"
   ]
  },
  {
   "cell_type": "code",
   "execution_count": 30,
   "id": "exceptional-japan",
   "metadata": {},
   "outputs": [
    {
     "name": "stderr",
     "output_type": "stream",
     "text": [
      "c:\\users\\100do\\appdata\\local\\programs\\python\\python38\\lib\\site-packages\\scipy\\optimize\\minpack.py:828: OptimizeWarning: Covariance of the parameters could not be estimated\n",
      "  warnings.warn('Covariance of the parameters could not be estimated',\n"
     ]
    },
    {
     "data": {
      "text/plain": [
       "<matplotlib.legend.Legend at 0x284acfec580>"
      ]
     },
     "execution_count": 30,
     "metadata": {},
     "output_type": "execute_result"
    },
    {
     "data": {
      "image/png": "[encoded data removed]",
      "text/plain": [
       "<Figure size 432x288 with 1 Axes>"
      ]
     },
     "metadata": {
      "needs_background": "light"
     },
     "output_type": "display_data"
    }
   ],
   "source": [
    "import matplotlib.pyplot as plt\n",
    "from scipy.optimize import curve_fit\n",
    "import numpy as np\n",
    "\n",
    "\n",
    "#  make random data\n",
    "x = np.arange(1, 101)\n",
    "y = -x**2 + 130\n",
    "noise = np.random.normal(1, 10,100)\n",
    "y2 = y+noise\n",
    "\n",
    "# 2) build function\n",
    "def poly_func(x, a, b, c, d):\n",
    "    return a*(x-b)+c + d\n",
    "\n",
    "# 3) set initial parameters, put data to function\n",
    "init_value = [0.0, 0.0, 0.0, 0.0]  \n",
    "popt, pcov = curve_fit(poly_func, x, y2, init_value)\n",
    "pred = poly_func(x, *popt)\n",
    "\n",
    "# 4) visualization\n",
    "plt.plot(x, y2, label = 'origin')\n",
    "plt.plot(x, pred, label = 'pred')\n",
    "plt.legend()"
   ]
  },
  {
   "cell_type": "code",
   "execution_count": 31,
   "id": "liquid-patio",
   "metadata": {
    "scrolled": false
   },
   "outputs": [
    {
     "data": {
      "text/html": [
       "<div>\n",
       "<style scoped>\n",
       "    .dataframe tbody tr th:only-of-type {\n",
       "        vertical-align: middle;\n",
       "    }\n",
       "\n",
       "    .dataframe tbody tr th {\n",
       "        vertical-align: top;\n",
       "    }\n",
       "\n",
       "    .dataframe thead th {\n",
       "        text-align: right;\n",
       "    }\n",
       "</style>\n",
       "<table border=\"1\" class=\"dataframe\">\n",
       "  <thead>\n",
       "    <tr style=\"text-align: right;\">\n",
       "      <th></th>\n",
       "      <th>meaning</th>\n",
       "      <th>value</th>\n",
       "    </tr>\n",
       "  </thead>\n",
       "  <tbody>\n",
       "    <tr>\n",
       "      <th>0</th>\n",
       "      <td>equation</td>\n",
       "      <td>a*(x-b)+c + d</td>\n",
       "    </tr>\n",
       "    <tr>\n",
       "      <th>1</th>\n",
       "      <td>a</td>\n",
       "      <td>-100.959327</td>\n",
       "    </tr>\n",
       "    <tr>\n",
       "      <th>2</th>\n",
       "      <td>b</td>\n",
       "      <td>-137.01349</td>\n",
       "    </tr>\n",
       "    <tr>\n",
       "      <th>3</th>\n",
       "      <td>c</td>\n",
       "      <td>6756.776148</td>\n",
       "    </tr>\n",
       "    <tr>\n",
       "      <th>4</th>\n",
       "      <td>d</td>\n",
       "      <td>8920.594448</td>\n",
       "    </tr>\n",
       "  </tbody>\n",
       "</table>\n",
       "</div>"
      ],
      "text/plain": [
       "    meaning          value\n",
       "0  equation  a*(x-b)+c + d\n",
       "1         a    -100.959327\n",
       "2         b     -137.01349\n",
       "3         c    6756.776148\n",
       "4         d    8920.594448"
      ]
     },
     "execution_count": 31,
     "metadata": {},
     "output_type": "execute_result"
    }
   ],
   "source": [
    "# 5) equation coefficient summary\n",
    "\n",
    "exponential_result = []\n",
    "equation = 'a*(x-b)+c + d'\n",
    "coefficient = popt\n",
    "\n",
    "exponential_result.append(['equation', equation])\n",
    "exponential_result.append(['a', popt[0]])\n",
    "exponential_result.append(['b', popt[1]])\n",
    "exponential_result.append(['c', popt[2]])\n",
    "exponential_result.append(['d', popt[3]])\n",
    "df_exponential_result = pd.DataFrame(exponential_result)\n",
    "df_exponential_result.columns = ['meaning', 'value']\n",
    "df_exponential_result"
   ]
  },
  {
   "cell_type": "markdown",
   "id": "skilled-fossil",
   "metadata": {},
   "source": [
    "<br>\n",
    "2) degree 2  polynoimial curve"
   ]
  },
  {
   "cell_type": "code",
   "execution_count": 33,
   "id": "responsible-constraint",
   "metadata": {},
   "outputs": [
    {
     "data": {
      "text/plain": [
       "<matplotlib.legend.Legend at 0x284dab65ac0>"
      ]
     },
     "execution_count": 33,
     "metadata": {},
     "output_type": "execute_result"
    },
    {
     "data": {
      "image/png": "[encoded data removed]",
      "text/plain": [
       "<Figure size 432x288 with 1 Axes>"
      ]
     },
     "metadata": {
      "needs_background": "light"
     },
     "output_type": "display_data"
    }
   ],
   "source": [
    "import matplotlib.pyplot as plt\n",
    "from scipy.optimize import curve_fit\n",
    "import numpy as np\n",
    "\n",
    "\n",
    "#  make random data\n",
    "x = np.arange(1, 101)\n",
    "y = x**2 + 130\n",
    "noise = np.random.normal(1, 500,100)\n",
    "y2 = y+noise\n",
    "\n",
    "# 2) build function\n",
    "def poly_func(x, a, b, c):\n",
    "    return a*(x-b)**2 + c \n",
    "\n",
    "# 3) set initial parameters, put data to function\n",
    "init_value = [0.0, 0.0, 0.0 ]\n",
    "popt, pcov = curve_fit(poly_func, x, y2, init_value)\n",
    "pred = poly_func(x, *popt)\n",
    "\n",
    "# 4) visualization\n",
    "plt.plot(x, y2, label = 'origin')\n",
    "plt.plot(x, pred, label = 'pred')\n",
    "plt.legend()\n",
    "\n"
   ]
  },
  {
   "cell_type": "code",
   "execution_count": 34,
   "id": "pharmaceutical-tampa",
   "metadata": {},
   "outputs": [
    {
     "data": {
      "text/html": [
       "<div>\n",
       "<style scoped>\n",
       "    .dataframe tbody tr th:only-of-type {\n",
       "        vertical-align: middle;\n",
       "    }\n",
       "\n",
       "    .dataframe tbody tr th {\n",
       "        vertical-align: top;\n",
       "    }\n",
       "\n",
       "    .dataframe thead th {\n",
       "        text-align: right;\n",
       "    }\n",
       "</style>\n",
       "<table border=\"1\" class=\"dataframe\">\n",
       "  <thead>\n",
       "    <tr style=\"text-align: right;\">\n",
       "      <th></th>\n",
       "      <th>meaning</th>\n",
       "      <th>value</th>\n",
       "    </tr>\n",
       "  </thead>\n",
       "  <tbody>\n",
       "    <tr>\n",
       "      <th>0</th>\n",
       "      <td>equation</td>\n",
       "      <td>a*(x-b)**2 + c</td>\n",
       "    </tr>\n",
       "    <tr>\n",
       "      <th>1</th>\n",
       "      <td>a</td>\n",
       "      <td>1.044006</td>\n",
       "    </tr>\n",
       "    <tr>\n",
       "      <th>2</th>\n",
       "      <td>b</td>\n",
       "      <td>3.118928</td>\n",
       "    </tr>\n",
       "    <tr>\n",
       "      <th>3</th>\n",
       "      <td>c</td>\n",
       "      <td>295.73746</td>\n",
       "    </tr>\n",
       "  </tbody>\n",
       "</table>\n",
       "</div>"
      ],
      "text/plain": [
       "    meaning           value\n",
       "0  equation  a*(x-b)**2 + c\n",
       "1         a        1.044006\n",
       "2         b        3.118928\n",
       "3         c       295.73746"
      ]
     },
     "execution_count": 34,
     "metadata": {},
     "output_type": "execute_result"
    }
   ],
   "source": [
    "# 5) equation coefficient summary\n",
    "\n",
    "exponential_result = []\n",
    "equation = 'a*(x-b)**2 + c'\n",
    "coefficient = popt\n",
    "\n",
    "exponential_result.append(['equation', equation])\n",
    "exponential_result.append(['a', popt[0]])\n",
    "exponential_result.append(['b', popt[1]])\n",
    "exponential_result.append(['c', popt[2]])\n",
    "df_exponential_result = pd.DataFrame(exponential_result)\n",
    "df_exponential_result.columns = ['meaning', 'value']\n",
    "df_exponential_result"
   ]
  },
  {
   "cell_type": "markdown",
   "id": "proper-stanley",
   "metadata": {},
   "source": [
    "<br>\n",
    "<br>\n",
    "<br>\n",
    "<br>"
   ]
  },
  {
   "cell_type": "markdown",
   "id": "current-robinson",
   "metadata": {},
   "source": [
    "<h4> 2.   sinusoidal curve <br>  </h4> \n",
    "A sine wave, sinusoidal wave, or just sinusoid is a mathematical curve defined in terms of the sine trigonometric function, of which it is the graph. It is a type of continuous wave and also a smooth periodic function. It occurs often in mathematics, as well as in physics, engineering, signal processing and many other fields. (wikipedia) <br> "
   ]
  },
  {
   "cell_type": "code",
   "execution_count": 1,
   "id": "closed-discussion",
   "metadata": {},
   "outputs": [],
   "source": [
    "import os\n",
    "import os "
   ]
  },
  {
   "cell_type": "code",
   "execution_count": 96,
   "id": "variable-necessity",
   "metadata": {},
   "outputs": [
    {
     "data": {
      "text/plain": [
       "<matplotlib.legend.Legend at 0x1ec115b8820>"
      ]
     },
     "execution_count": 96,
     "metadata": {},
     "output_type": "execute_result"
    },
    {
     "data": {
      "image/png": "[encoded data removed]",
      "text/plain": [
       "<Figure size 432x288 with 1 Axes>"
      ]
     },
     "metadata": {
      "needs_background": "light"
     },
     "output_type": "display_data"
    }
   ],
   "source": [
    "import numpy as np\n",
    "from scipy.optimize import curve_fit\n",
    "import math\n",
    "\n",
    "\n",
    "#  1) make random data\n",
    "x = np.arange(1, 101)\n",
    "y = np.sin(0.2*x-10) + 10\n",
    "noise = np.random.normal(1, 0.5,100)\n",
    "y2 = y+noise\n",
    "\n",
    "\n",
    "\n",
    "# 2) build function\n",
    "def sinusoid(x,A,B,C ,D):\n",
    "    return A*np.sin(B*x-C) + D\n",
    "\n",
    "def get_p0(x, y, T):\n",
    "    A0 = (max(y[0:T]) - min(y[0:T]))/2\n",
    "    D0 = y[0]\n",
    "    C0 = 0.\n",
    "    B0 = 2.*np.pi/T\n",
    "    return [A0, B0, C0,D0]\n",
    "\n",
    "def get_sinuid(decom_y):\n",
    "    Y= decom_y\n",
    "    T = len(Y)\n",
    "    X  = np.arange(len(Y))\n",
    "    param_sin, covariance = curve_fit(sinusoid, X, Y, p0=get_p0(X,Y, T), maxfev=10000)\n",
    "    pred = sinusoid(X, *param_sin)\n",
    "    error = sum(abs(Y-pred))\n",
    "    for n in range(2, 5):\n",
    "        temp_T = len(Y)//n\n",
    "        temp_param_sin, temp_covariance = curve_fit(sinusoid, X, Y, p0=get_p0(X,Y, temp_T), maxfev=10000)\n",
    "        temp_pred = sinusoid(X, *temp_param_sin)\n",
    "        temp_error = sum(abs(Y-temp_pred))\n",
    "        if temp_error < error:\n",
    "            param_sin = temp_param_sin\n",
    "            covariance = temp_covariance\n",
    "            pred = temp_pred\n",
    "            T = temp_T\n",
    "            error = temp_error\n",
    "        else:\n",
    "            continue\n",
    "    name_sin = f'2*{np.round(param_sin[0],10)} sin({np.round(param_sin[1],10)}*x - {np.round(param_sin[2],10)}) + {param_sin[3]}' \n",
    "    return(name_sin, pred, param_sin)\n",
    "\n",
    "\n",
    "# 3) set initial parameters, put data to function\n",
    "name_sin, sin_pred, param_sin = get_sinuid(y2)\n",
    "\n",
    "\n",
    "# 4) visualization\n",
    "plt.plot(x, sin_pred, label = f'pred')\n",
    "plt.plot(x, y2, label = 'origin')\n",
    "# plt.plot(x, pred, label = 'pred')\n",
    "plt.legend()\n",
    "\n"
   ]
  },
  {
   "cell_type": "code",
   "execution_count": 97,
   "id": "cognitive-federation",
   "metadata": {},
   "outputs": [
    {
     "data": {
      "text/html": [
       "<div>\n",
       "<style scoped>\n",
       "    .dataframe tbody tr th:only-of-type {\n",
       "        vertical-align: middle;\n",
       "    }\n",
       "\n",
       "    .dataframe tbody tr th {\n",
       "        vertical-align: top;\n",
       "    }\n",
       "\n",
       "    .dataframe thead th {\n",
       "        text-align: right;\n",
       "    }\n",
       "</style>\n",
       "<table border=\"1\" class=\"dataframe\">\n",
       "  <thead>\n",
       "    <tr style=\"text-align: right;\">\n",
       "      <th></th>\n",
       "      <th>meaning</th>\n",
       "      <th>value</th>\n",
       "    </tr>\n",
       "  </thead>\n",
       "  <tbody>\n",
       "    <tr>\n",
       "      <th>0</th>\n",
       "      <td>equation</td>\n",
       "      <td>a*np.sin(b*x-c) + d</td>\n",
       "    </tr>\n",
       "    <tr>\n",
       "      <th>1</th>\n",
       "      <td>a</td>\n",
       "      <td>0.931649</td>\n",
       "    </tr>\n",
       "    <tr>\n",
       "      <th>2</th>\n",
       "      <td>b</td>\n",
       "      <td>0.20209</td>\n",
       "    </tr>\n",
       "    <tr>\n",
       "      <th>3</th>\n",
       "      <td>c</td>\n",
       "      <td>-2.699934</td>\n",
       "    </tr>\n",
       "    <tr>\n",
       "      <th>4</th>\n",
       "      <td>d</td>\n",
       "      <td>10.961667</td>\n",
       "    </tr>\n",
       "  </tbody>\n",
       "</table>\n",
       "</div>"
      ],
      "text/plain": [
       "    meaning                value\n",
       "0  equation  a*np.sin(b*x-c) + d\n",
       "1         a             0.931649\n",
       "2         b              0.20209\n",
       "3         c            -2.699934\n",
       "4         d            10.961667"
      ]
     },
     "execution_count": 97,
     "metadata": {},
     "output_type": "execute_result"
    }
   ],
   "source": [
    "# 5) equation coefficient summary\n",
    "\n",
    "exponential_result = []\n",
    "equation = 'a*np.sin(b*x-c) + d'\n",
    "coefficient = popt\n",
    "\n",
    "exponential_result.append(['equation', equation])\n",
    "exponential_result.append(['a', param_sin[0]])\n",
    "exponential_result.append(['b', param_sin[1]])\n",
    "exponential_result.append(['c', param_sin[2]])\n",
    "exponential_result.append(['d', param_sin[3]])\n",
    "df_exponential_result = pd.DataFrame(exponential_result)\n",
    "df_exponential_result.columns = ['meaning', 'value']\n",
    "df_exponential_result"
   ]
  }
 ],
 "metadata": {
  "kernelspec": {
   "display_name": "Python 3",
   "language": "python",
   "name": "python3"
  },
  "language_info": {
   "codemirror_mode": {
    "name": "ipython",
    "version": 3
   },
   "file_extension": ".py",
   "mimetype": "text/x-python",
   "name": "python",
   "nbconvert_exporter": "python",
   "pygments_lexer": "ipython3",
   "version": "3.8.8"
  }
 },
 "nbformat": 4,
 "nbformat_minor": 5
}
